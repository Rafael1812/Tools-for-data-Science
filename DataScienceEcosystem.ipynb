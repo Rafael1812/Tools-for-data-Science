{
 "cells": [
  {
   "cell_type": "markdown",
   "id": "1a88f285-ec35-4a06-b4a7-aea3b633903b",
   "metadata": {
    "tags": []
   },
   "source": [
    "# **DataScienceEcosystem**"
   ]
  },
  {
   "cell_type": "markdown",
   "id": "7fb11686-b457-4254-b0f6-e4644954fe90",
   "metadata": {},
   "source": [
    "## **In this notebook, Data Science Tools and Ecosystem are summarized.**"
   ]
  },
  {
   "cell_type": "markdown",
   "id": "00ed2297-8d63-4d07-bd66-c683d8bf4624",
   "metadata": {},
   "source": [
    "### **Objetivos: O objetivo deste trabalho é iniciar os conceitos do notebook mostrando como realizar uma apresentação do trabalho de ciência de dados.**"
   ]
  },
  {
   "cell_type": "markdown",
   "id": "2423362a-0806-4a73-8348-bca21e1108f9",
   "metadata": {},
   "source": [
    " - Exemplificar os difenrentes tamanhos de fonte\n",
    " - Mostrar como funciona os marcadores\n",
    " - Apresentar como criar um notebook \n",
    " - Mostrar como modifica o título de um notebook\n",
    " - Ensinar como criar um simples tabela"
   ]
  },
  {
   "cell_type": "markdown",
   "id": "6bcc1d0a-4ca3-49d6-9570-2a677b5ca178",
   "metadata": {
    "jp-MarkdownHeadingCollapsed": true,
    "tags": []
   },
   "source": [
    "### Some of the popular languages that Data Scientists use are:\n",
    "1. Linguagem Python\n",
    "2. Linguagem R\n",
    "3. Linguaem Julia"
   ]
  },
  {
   "cell_type": "markdown",
   "id": "bccdd97f-a54d-4502-8c0d-0f5a0b1222b3",
   "metadata": {},
   "source": [
    "### Some of the commonly used libraries used by Data Scientists include:\n",
    "1. Pandas\n",
    "2. MatPlotlib\n",
    "3. Numpy"
   ]
  },
  {
   "cell_type": "markdown",
   "id": "efaefa21-7b7e-4a5d-9ac6-52875e19b5bf",
   "metadata": {},
   "source": [
    "| Data Science Tools | \n",
    "|-------------|\n",
    "| Jupyter Lab     |\n",
    "| RStudio     |\n",
    "| GitHub     |\n"
   ]
  },
  {
   "cell_type": "markdown",
   "id": "7ce57c3f-20fe-4212-8d2b-6d3991cf4d60",
   "metadata": {
    "tags": []
   },
   "source": [
    "### Below are a few examples of evaluating arithmetic expressions in Python\n",
    "1. Addition:\n",
    "\n",
    "result = 5 + 3\n",
    "Result: 8\n",
    "\n",
    "2. Subtraction:\n",
    "\n",
    "sub = 4 - 2 \n",
    "\n",
    "sub = 2\n",
    "\n",
    "3. Multiplication:\n",
    "\n",
    "mul = 2*2\n",
    "\n",
    "mul = 4"
   ]
  },
  {
   "cell_type": "markdown",
   "id": "6864b121-4efd-4ed9-90c2-d3a6638d235b",
   "metadata": {
    "tags": []
   },
   "source": [
    "### This a simple arithmetic expression to mutiply then add integers"
   ]
  },
  {
   "cell_type": "code",
   "execution_count": 1,
   "id": "776f73c1-3f90-4e00-867f-c27e0832343e",
   "metadata": {
    "tags": []
   },
   "outputs": [
    {
     "data": {
      "text/plain": [
       "17"
      ]
     },
     "execution_count": 1,
     "metadata": {},
     "output_type": "execute_result"
    }
   ],
   "source": [
    "(3*4)+5"
   ]
  },
  {
   "cell_type": "markdown",
   "id": "7ed0d9ff-2c7c-4df5-9db8-71ebb0b60779",
   "metadata": {
    "tags": []
   },
   "source": [
    "### This will convert 200 minutes to hours by diving by 60"
   ]
  },
  {
   "cell_type": "code",
   "execution_count": 3,
   "id": "8bc5f757-618e-4e98-9312-4df88e05b0a3",
   "metadata": {
    "tags": []
   },
   "outputs": [
    {
     "data": {
      "text/plain": [
       "3.3333333333333335"
      ]
     },
     "execution_count": 3,
     "metadata": {},
     "output_type": "execute_result"
    }
   ],
   "source": [
    "200 / 60"
   ]
  },
  {
   "cell_type": "markdown",
   "id": "50b734eb-8949-412e-8487-8c7f11360a24",
   "metadata": {},
   "source": [
    "## Author:"
   ]
  },
  {
   "cell_type": "markdown",
   "id": "a50da3c8-e839-44d6-85ca-b00356535665",
   "metadata": {},
   "source": [
    "### Rafael Girão"
   ]
  },
  {
   "cell_type": "code",
   "execution_count": null,
   "id": "ad58f3ca-4e85-436d-91d6-116f9ec78189",
   "metadata": {},
   "outputs": [],
   "source": []
  }
 ],
 "metadata": {
  "kernelspec": {
   "display_name": "Python 3 (ipykernel)",
   "language": "python",
   "name": "python3"
  },
  "language_info": {
   "codemirror_mode": {
    "name": "ipython",
    "version": 3
   },
   "file_extension": ".py",
   "mimetype": "text/x-python",
   "name": "python",
   "nbconvert_exporter": "python",
   "pygments_lexer": "ipython3",
   "version": "3.11.3"
  }
 },
 "nbformat": 4,
 "nbformat_minor": 5
}
